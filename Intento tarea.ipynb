{
 "cells": [
  {
   "cell_type": "code",
   "execution_count": 2,
   "metadata": {},
   "outputs": [],
   "source": [
    "#Definamos las clases\n",
    "Dict_estado={0:\"planificación\",1:\"ejecución\",2:\"finalizado\"}\n",
    "Dict_impacto={0:\"Local\",1:\"Regional\",2:\"nacional\",3:\"global\"}\n",
    "\n",
    "class Proyecto:\n",
    "    LastIdProy=0\n",
    "    def __init__(self,nombre,descripcion,estado):\n",
    "        self.nombre=nombre\n",
    "        self.descripcion=descripcion\n",
    "        self.estado=estado #diremos que estado 0 es en planificación, 1 es en ejecución y 2 finalizado\n",
    "        self._idproy=Proyecto.LastIdProy\n",
    "        Proyecto.LastIdProy+=1\n",
    "        self.Voluntarios_dict={}\n",
    "        self.Instituciones_dict={}\n",
    "        \n",
    "class Concientizacion(Proyecto):\n",
    "    LastIdProyConc=0\n",
    "    def __init__(self,nombre,descripcion,estado,tema,impacto):\n",
    "        super().__init__(nombre,descripcion,estado)\n",
    "        self.tema=tema\n",
    "        self.impacto=impacto\n",
    "        self._idproyConc=Concientizacion.LastIdProyConc\n",
    "\n",
    "A=Concientizacion(\"termoeléctrica\",\"termoeléctrica sur\",0,\"salud\",\"1\")\n",
    "    \n",
    "#class Ejecucion(Proyecto)\n",
    "\n",
    "\n",
    "    "
   ]
  },
  {
   "cell_type": "code",
   "execution_count": null,
   "metadata": {},
   "outputs": [],
   "source": []
  },
  {
   "cell_type": "code",
   "execution_count": null,
   "metadata": {},
   "outputs": [],
   "source": []
  },
  {
   "cell_type": "code",
   "execution_count": null,
   "metadata": {},
   "outputs": [],
   "source": []
  },
  {
   "cell_type": "code",
   "execution_count": null,
   "metadata": {},
   "outputs": [],
   "source": []
  }
 ],
 "metadata": {
  "kernelspec": {
   "display_name": "Python 3",
   "language": "python",
   "name": "python3"
  },
  "language_info": {
   "codemirror_mode": {
    "name": "ipython",
    "version": 3
   },
   "file_extension": ".py",
   "mimetype": "text/x-python",
   "name": "python",
   "nbconvert_exporter": "python",
   "pygments_lexer": "ipython3",
   "version": "3.6.8"
  }
 },
 "nbformat": 4,
 "nbformat_minor": 2
}
