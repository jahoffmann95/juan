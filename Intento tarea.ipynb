{
 "cells": [
  {
   "cell_type": "code",
   "execution_count": 18,
   "metadata": {},
   "outputs": [],
   "source": [
    "# Idea: cada vez que creamos algo, primero lo creamos en la maestra y así lo vamos bajando a las otras\n",
    "#proxima acción de qué es atributo\n",
    "#Definamos las clases\n",
    "Dict_estado={0:\"planificación\",1:\"ejecución\",2:\"finalizado\"}\n",
    "Dict_impacto={0:\"Local\",1:\"Regional\",2:\"nacional\",3:\"global\"}\n",
    "\n",
    "class Proyecto:\n",
    "    LastIdProy=0\n",
    "    def __init__(self,nombre,descripcion,estado,listaVol,listaInst):\n",
    "        self.nombre=nombre\n",
    "        self.descripcion=descripcion\n",
    "        self.estado=estado #diremos que estado 0 es en planificación, 1 es en ejecución y 2 finalizado\n",
    "        self.id_Proy=Proyecto.LastIdProy\n",
    "        Proyecto.LastIdProy+=1\n",
    "        self.listaVol=[] #será lo mejor hacerlo con diccionario?\n",
    "        self.listaInst=[] #por que no con una lista de ids?\n",
    "        \n",
    "class Concientizacion(Proyecto): #con la id de un proyecto, puedo buscarlo donde sea y tener toda la info\n",
    "    def __init__(self,nombre,descripcion,estado,tema,impacto,id_ProyC,listaVol,listaInst):\n",
    "        super().__init__(nombre,descripcion,estado,listaVol,listaInst)\n",
    "        self.tema=tema\n",
    "        self.impacto=impacto\n",
    "        self.id_ProyC=id_ProyC\n",
    "        \n",
    "#Defino un proyecto en \"hijo\" en base a lo que es la información del proyecto madre\n",
    "#a=Proyecto(\"termoeléctrica\",\"termoeléctrica sur\",0)\n",
    "#B=Concientizacion(a.nombre,a.descripcion,a.estado,\"educación\",0,a._idProy,a.Voluntarios_dict,a.Instituciones_dict)\n",
    "#print(B._idProyC==a._idProy)\n",
    "    \n",
    "#class Ejecucion(Proyecto)\n",
    "    def __init__(self,nombre,descripcion,estado,ciudad,costo,id_ProyE,listaVol,listaInst):\n",
    "        super().__init__(nombre,descripcion,estado,listaVol,listaInst)\n",
    "        self.ciudad=ciudad\n",
    "        self.costo=costo\n",
    "        self.id_ProyE=id_ProyE\n",
    "a=Concientizacion(1,1,1,1,1,1,1,1)"
   ]
  },
  {
   "cell_type": "code",
   "execution_count": 12,
   "metadata": {},
   "outputs": [
    {
     "name": "stdout",
     "output_type": "stream",
     "text": [
      "juan\n",
      "18\n",
      "[]\n",
      "[4]\n"
     ]
    },
    {
     "data": {
      "text/plain": [
       "23"
      ]
     },
     "execution_count": 12,
     "metadata": {},
     "output_type": "execute_result"
    }
   ],
   "source": [
    "#Veamos si podemos definir trabajadores\n",
    "class Voluntarios:\n",
    "    LastIdVolunt=0\n",
    "    def __init__(self,nombre,edad):\n",
    "        self.nombre=nombre\n",
    "        self.edad=edad\n",
    "        self.fecha=0 #definir con la librería\n",
    "        self.proyAsoc=[]\n",
    "        self.id_Vol=Voluntarios.LastIdVolunt\n",
    "        Voluntarios.LastIdVolunt+=1\n",
    "class Obrero(Voluntarios):\n",
    "    def __init__(self,nombre,edad,id_Obrero):\n",
    "        super().init(nombre,edad)\n",
    "        self.id_Obrero=id_Obrero\n",
    "    \n",
    "class Analista(Voluntarios):\n",
    "    def __init(self,nombre,edad,especializacion,id_Analista):\n",
    "        super().init(nombre,edad)\n",
    "        self.especializacion=especializacion\n",
    "        self.id_Analista=id_Analista\n",
    "    \n",
    "class Jefe(Voluntarios):\n",
    "     def __init__(self,nombre,edad,id_Jefe):\n",
    "        super().init(nombre,edad)\n",
    "        self.ACargo=[]\n",
    "        self.id_Jefe=id_Jefe\n",
    "    \n",
    "a=Voluntarios(\"juan\",18)\n",
    "print(a.nombre)\n",
    "print(a.edad)\n",
    "print(a.proyAsc)\n",
    "a.proyAsc.append(4)\n",
    "print(a.proyAsc) #si o si voy a tener que crear una lista para las cosas de cada \n",
    "b=Voluntarios(\"juan2\",23)\n",
    "Lista=[a,b]\n",
    "c=Lista[1]\n",
    "c.edad\n"
   ]
  },
  {
   "cell_type": "code",
   "execution_count": null,
   "metadata": {},
   "outputs": [],
   "source": [
    "#definamos instituciones. #Valdrá la pena separar entre las 3?\n",
    "class Instituciones:\n",
    "    LastIdInst=0\n",
    "    def __init__(self,nombre,tipoApoyo):\n",
    "        self.nombre=nombre\n",
    "        self.tipoApoyo=tipoApoyo\n",
    "        self.id_Institucion=Instituciones.LastIdInst\n",
    "        Instituciones.LastIdInst+=1\n",
    "    \n",
    "class Publico():\n",
    "    def __init__(nombre,tipoApoyo)\n",
    "class Privado():\n",
    "    \n",
    "class Social():\n",
    "    \n",
    "        "
   ]
  },
  {
   "cell_type": "code",
   "execution_count": null,
   "metadata": {},
   "outputs": [],
   "source": []
  },
  {
   "cell_type": "code",
   "execution_count": null,
   "metadata": {},
   "outputs": [],
   "source": []
  }
 ],
 "metadata": {
  "kernelspec": {
   "display_name": "Python 3",
   "language": "python",
   "name": "python3"
  },
  "language_info": {
   "codemirror_mode": {
    "name": "ipython",
    "version": 3
   },
   "file_extension": ".py",
   "mimetype": "text/x-python",
   "name": "python",
   "nbconvert_exporter": "python",
   "pygments_lexer": "ipython3",
   "version": "3.6.8"
  }
 },
 "nbformat": 4,
 "nbformat_minor": 2
}
